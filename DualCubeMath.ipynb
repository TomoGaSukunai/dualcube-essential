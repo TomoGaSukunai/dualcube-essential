{
 "cells": [
  {
   "cell_type": "markdown",
   "metadata": {},
   "source": [
    "# 二阶魔方数学"
   ]
  },
  {
   "cell_type": "code",
   "execution_count": 1,
   "metadata": {},
   "outputs": [],
   "source": [
    "import numpy as np"
   ]
  },
  {
   "cell_type": "markdown",
   "metadata": {},
   "source": [
    "# 基本几何\n",
    "## 面，主轴\n",
    "## 顶点，块"
   ]
  },
  {
   "cell_type": "code",
   "execution_count": 2,
   "metadata": {},
   "outputs": [
    {
     "name": "stdout",
     "output_type": "stream",
     "text": [
      "[[-1, 0, 0], [0, -1, 0], [0, 0, -1], [1, 0, 0], [0, 1, 0], [0, 0, 1]]\n",
      "[[-1, -1, -1], [-1, -1, 1], [-1, 1, -1], [-1, 1, 1], [1, -1, -1], [1, -1, 1], [1, 1, -1], [1, 1, 1]]\n"
     ]
    }
   ],
   "source": [
    "# 尺度 -1， 1\n",
    "scale = [-1, 1] \n",
    "\n",
    "# 面、转轴向量\n",
    "faces = []\n",
    "for code_java in scale:\n",
    "    faces.append([code_java, 0, 0])\n",
    "    faces.append([0, code_java, 0])\n",
    "    faces.append([0, 0, code_java])\n",
    "print(faces)\n",
    "\n",
    "# 顶点、块坐标\n",
    "blocks = []\n",
    "\n",
    "for x in scale:\n",
    "    for y in scale:\n",
    "        for z in scale:\n",
    "            blocks.append([x, y, z])\n",
    "print(blocks)"
   ]
  },
  {
   "cell_type": "markdown",
   "metadata": {},
   "source": [
    "# 旋转矩阵"
   ]
  },
  {
   "cell_type": "code",
   "execution_count": 3,
   "metadata": {},
   "outputs": [],
   "source": [
    "##\n",
    "##  Wiki 上绕轴旋转的公式\n",
    "##  URL_ADDRESS##  https://en.wikipedia.org/wiki/Rotation_matrix#Rotation_matrix_from_axis_and_angle\n",
    "\n",
    "\n",
    "def getRotateMatrix(v, theta ):\n",
    "    n = np.sqrt(np.dot(v,v))\n",
    "    [x,y,z] = v/n\n",
    "    s = np.sin(theta)\n",
    "    c = np.cos(theta)\n",
    "    c1 = 1 - c\n",
    "    return np.array([[c + c1 * x * x, c1 * x * y - s * z, c1 * x * z + s * y],\n",
    "                    [c1 * y * x + s * z, c + c1 * y * y, c1 * y * z - s * x],\n",
    "                    [c1 * z * x - s * y, c1 * z * y + s * x, c + c1 * z * z]])\n"
   ]
  },
  {
   "cell_type": "markdown",
   "metadata": {},
   "source": [
    "# 绕轴旋转的矩阵，用于面旋转关系"
   ]
  },
  {
   "cell_type": "code",
   "execution_count": 4,
   "metadata": {},
   "outputs": [
    {
     "name": "stdout",
     "output_type": "stream",
     "text": [
      "[array([[ 1,  0,  0],\n",
      "       [ 0,  0,  1],\n",
      "       [ 0, -1,  0]], dtype=int16), array([[ 0,  0, -1],\n",
      "       [ 0,  1,  0],\n",
      "       [ 1,  0,  0]], dtype=int16), array([[ 0,  1,  0],\n",
      "       [-1,  0,  0],\n",
      "       [ 0,  0,  1]], dtype=int16), array([[ 1,  0,  0],\n",
      "       [ 0,  0, -1],\n",
      "       [ 0,  1,  0]], dtype=int16), array([[ 0,  0,  1],\n",
      "       [ 0,  1,  0],\n",
      "       [-1,  0,  0]], dtype=int16), array([[ 0, -1,  0],\n",
      "       [ 1,  0,  0],\n",
      "       [ 0,  0,  1]], dtype=int16)]\n"
     ]
    }
   ],
   "source": [
    "face_rotates = []\n",
    "for face in faces:\n",
    "    mat = getRotateMatrix(face, np.pi * 2 / 4)\n",
    "    face_rotates.append(np.array(mat,np.int16))\n",
    "print(face_rotates)"
   ]
  },
  {
   "cell_type": "markdown",
   "metadata": {},
   "source": [
    "# 绕顶点旋转的矩阵，用于块朝向"
   ]
  },
  {
   "cell_type": "code",
   "execution_count": 5,
   "metadata": {},
   "outputs": [
    {
     "name": "stdout",
     "output_type": "stream",
     "text": [
      "[array([[0, 1, 0],\n",
      "       [0, 0, 1],\n",
      "       [1, 0, 0]], dtype=int16), array([[ 0,  0, -1],\n",
      "       [ 1,  0,  0],\n",
      "       [ 0, -1,  0]], dtype=int16), array([[ 0,  0,  1],\n",
      "       [-1,  0,  0],\n",
      "       [ 0, -1,  0]], dtype=int16), array([[ 0, -1,  0],\n",
      "       [ 0,  0,  1],\n",
      "       [-1,  0,  0]], dtype=int16), array([[ 0,  0, -1],\n",
      "       [-1,  0,  0],\n",
      "       [ 0,  1,  0]], dtype=int16), array([[ 0, -1,  0],\n",
      "       [ 0,  0, -1],\n",
      "       [ 1,  0,  0]], dtype=int16), array([[ 0,  1,  0],\n",
      "       [ 0,  0, -1],\n",
      "       [-1,  0,  0]], dtype=int16), array([[0, 0, 1],\n",
      "       [1, 0, 0],\n",
      "       [0, 1, 0]], dtype=int16)]\n"
     ]
    }
   ],
   "source": [
    "\n",
    "\n",
    "corner_rotates = []\n",
    "for corner in blocks:\n",
    "    mat = getRotateMatrix(corner, np.pi * 2 / 3)\n",
    "    corner_rotates.append(np.array(mat,np.int16))\n",
    "print(corner_rotates)\n"
   ]
  },
  {
   "cell_type": "markdown",
   "metadata": {},
   "source": [
    "### 校验绕顶点旋转矩阵"
   ]
  },
  {
   "cell_type": "code",
   "execution_count": 6,
   "metadata": {},
   "outputs": [
    {
     "name": "stdout",
     "output_type": "stream",
     "text": [
      "[[ 0  0 -1]]\n",
      "[[ 0 -1  0]]\n",
      "[[-1  0  0]]\n",
      "[-1, -1, -1]\n",
      "[[ 0 -1  0]]\n",
      "[[0 0 1]]\n",
      "[[-1  0  0]]\n",
      "[-1, -1, 1]\n",
      "[[0 1 0]]\n",
      "[[ 0  0 -1]]\n",
      "[[-1  0  0]]\n",
      "[-1, 1, -1]\n",
      "[[0 0 1]]\n",
      "[[0 1 0]]\n",
      "[[-1  0  0]]\n",
      "[-1, 1, 1]\n",
      "[[ 0 -1  0]]\n",
      "[[ 0  0 -1]]\n",
      "[[1 0 0]]\n",
      "[1, -1, -1]\n",
      "[[0 0 1]]\n",
      "[[ 0 -1  0]]\n",
      "[[1 0 0]]\n",
      "[1, -1, 1]\n",
      "[[ 0  0 -1]]\n",
      "[[0 1 0]]\n",
      "[[1 0 0]]\n",
      "[1, 1, -1]\n",
      "[[0 1 0]]\n",
      "[[0 0 1]]\n",
      "[[1 0 0]]\n",
      "[1, 1, 1]\n"
     ]
    }
   ],
   "source": [
    "# check corner_rotates\n",
    "for i in range(8):\n",
    "    r1 = np.matmul(corner_rotates[i],np.array([blocks[i][0],0,0]).reshape((3,1)))\n",
    "    r2 = np.matmul(corner_rotates[i],r1)\n",
    "    r3 = np.matmul(corner_rotates[i],r2)\n",
    "    print(r1.reshape(1,3))\n",
    "    print(r2.reshape(1,3))\n",
    "    print(r3.reshape(1,3))\n",
    "    print(blocks[i])"
   ]
  },
  {
   "cell_type": "markdown",
   "metadata": {},
   "source": [
    "# 面与块的关系\n",
    "## 各个角块朝外的3个面\n",
    "## 定义标准顺序 可用于确定块的朝向(会影响到映射数组数值)"
   ]
  },
  {
   "cell_type": "code",
   "execution_count": 7,
   "metadata": {},
   "outputs": [
    {
     "name": "stdout",
     "output_type": "stream",
     "text": [
      "[[0, 2, 1], [0, 1, 5], [0, 4, 2], [0, 5, 4], [3, 1, 2], [3, 5, 1], [3, 2, 4], [3, 4, 5]]\n"
     ]
    }
   ],
   "source": [
    "block_associated_faces = []\n",
    "for i in range(8):\n",
    "    associated_face = []\n",
    "    if(i < 4):\n",
    "        associated_face.append(0)\n",
    "        v1 = np.matmul(corner_rotates[i], np.array(faces[0]).reshape((3,1)))\n",
    "    \n",
    "    else: \n",
    "        associated_face.append(3)\n",
    "\n",
    "        v1 = np.matmul(corner_rotates[i], np.array(faces[3]).reshape((3,1)))\n",
    "    v2 = np.matmul(corner_rotates[i], v1)\n",
    "\n",
    "    for j in range(6):\n",
    "        if (np.dot(v1.reshape((1,3)), faces[j]) == 1):\n",
    "            associated_face.append(j)\n",
    "\n",
    "    for j in range(6):\n",
    "        if (np.dot(v2.reshape((1,3)), faces[j]) == 1):\n",
    "            associated_face.append(j)\n",
    "    \n",
    "\n",
    "    block_associated_faces.append(associated_face)\n",
    "\n",
    "print(block_associated_faces)"
   ]
  },
  {
   "cell_type": "markdown",
   "metadata": {},
   "source": [
    "### 校验"
   ]
  },
  {
   "cell_type": "code",
   "execution_count": 8,
   "metadata": {},
   "outputs": [
    {
     "name": "stdout",
     "output_type": "stream",
     "text": [
      "[-1. -1. -1.]\n",
      "[-1, -1, -1]\n",
      "[-1. -1.  1.]\n",
      "[-1, -1, 1]\n",
      "[-1.  1. -1.]\n",
      "[-1, 1, -1]\n",
      "[-1.  1.  1.]\n",
      "[-1, 1, 1]\n",
      "[ 1. -1. -1.]\n",
      "[1, -1, -1]\n",
      "[ 1. -1.  1.]\n",
      "[1, -1, 1]\n",
      "[ 1.  1. -1.]\n",
      "[1, 1, -1]\n",
      "[1. 1. 1.]\n",
      "[1, 1, 1]\n"
     ]
    }
   ],
   "source": [
    "# check blcok associated faces\n",
    "for i in range(8):\n",
    "    vsum = np.zeros(3)\n",
    "    for j in range(3):\n",
    "        vsum += faces[block_associated_faces[i][j]]\n",
    "    print(vsum)\n",
    "    print(blocks[i])"
   ]
  },
  {
   "cell_type": "markdown",
   "metadata": {},
   "source": [
    "## 生成旋转映射数组\n",
    "### TODO 解释生成逻辑"
   ]
  },
  {
   "cell_type": "code",
   "execution_count": 9,
   "metadata": {},
   "outputs": [
    {
     "name": "stdout",
     "output_type": "stream",
     "text": [
      "[[-1  0  0]\n",
      " [ 0  0 -1]\n",
      " [ 0 -1  0]]\n",
      "[[-1  0  0]\n",
      " [ 0 -1  0]\n",
      " [ 0  0  1]]\n",
      "[[-1  0  0]\n",
      " [ 0 -1  0]\n",
      " [ 0  0  1]]\n",
      "[[-1  0  0]\n",
      " [ 0  0  1]\n",
      " [ 0  1  0]]\n",
      "[[-1  0  0]\n",
      " [ 0  0  1]\n",
      " [ 0  1  0]]\n",
      "[[-1  0  0]\n",
      " [ 0  1  0]\n",
      " [ 0  0 -1]]\n",
      "[[-1  0  0]\n",
      " [ 0  1  0]\n",
      " [ 0  0 -1]]\n",
      "[[-1  0  0]\n",
      " [ 0  1  0]\n",
      " [ 0  0 -1]]\n",
      "[0, 1, 3, 2, 0, 0, 0, 0]\n",
      "[[-1  0  0]\n",
      " [ 0  0 -1]\n",
      " [ 0 -1  0]]\n",
      "[[ 0  1  0]\n",
      " [ 0  0 -1]\n",
      " [-1  0  0]]\n",
      "[[ 1  0  0]\n",
      " [ 0 -1  0]\n",
      " [ 0  0 -1]]\n",
      "[[ 0  0  1]\n",
      " [ 0 -1  0]\n",
      " [ 1  0  0]]\n",
      "[[ 1  0  0]\n",
      " [ 0  0 -1]\n",
      " [ 0  1  0]]\n",
      "[[ 0 -1  0]\n",
      " [ 0  0 -1]\n",
      " [ 1  0  0]]\n",
      "[[-1  0  0]\n",
      " [ 0 -1  0]\n",
      " [ 0  0  1]]\n",
      "[[ 0 -1  0]\n",
      " [ 0  0 -1]\n",
      " [ 1  0  0]]\n",
      "[0, 4, 5, 1, 2, 1, 2, 1]\n",
      "[[-1  0  0]\n",
      " [ 0  0 -1]\n",
      " [ 0 -1  0]]\n",
      "[[ 0  0 -1]\n",
      " [ 1  0  0]\n",
      " [ 0 -1  0]]\n",
      "[[-1  0  0]\n",
      " [ 0  1  0]\n",
      " [ 0  0 -1]]\n",
      "[[ 0  1  0]\n",
      " [ 1  0  0]\n",
      " [ 0  0 -1]]\n",
      "[[ 1  0  0]\n",
      " [ 0  0  1]\n",
      " [ 0 -1  0]]\n",
      "[[ 0  0  1]\n",
      " [-1  0  0]\n",
      " [ 0 -1  0]]\n",
      "[[ 1  0  0]\n",
      " [ 0 -1  0]\n",
      " [ 0  0 -1]]\n",
      "[[ 0  0  1]\n",
      " [-1  0  0]\n",
      " [ 0 -1  0]]\n",
      "[0, 2, 6, 4, 1, 2, 1, 2]\n",
      "[[ 1  0  0]\n",
      " [ 0 -1  0]\n",
      " [ 0  0 -1]]\n",
      "[[ 1  0  0]\n",
      " [ 0  0  1]\n",
      " [ 0 -1  0]]\n",
      "[[ 1  0  0]\n",
      " [ 0  0  1]\n",
      " [ 0 -1  0]]\n",
      "[[1 0 0]\n",
      " [0 1 0]\n",
      " [0 0 1]]\n",
      "[[1 0 0]\n",
      " [0 1 0]\n",
      " [0 0 1]]\n",
      "[[ 1  0  0]\n",
      " [ 0  0 -1]\n",
      " [ 0  1  0]]\n",
      "[[ 1  0  0]\n",
      " [ 0  0 -1]\n",
      " [ 0  1  0]]\n",
      "[[ 1  0  0]\n",
      " [ 0  0 -1]\n",
      " [ 0  1  0]]\n",
      "[4, 6, 7, 5, 0, 0, 0, 0]\n",
      "[[-1  0  0]\n",
      " [ 0  1  0]\n",
      " [ 0  0 -1]]\n",
      "[[ 0  0 -1]\n",
      " [ 0  1  0]\n",
      " [ 1  0  0]]\n",
      "[[-1  0  0]\n",
      " [ 0  0  1]\n",
      " [ 0  1  0]]\n",
      "[[0 1 0]\n",
      " [0 0 1]\n",
      " [1 0 0]]\n",
      "[[1 0 0]\n",
      " [0 1 0]\n",
      " [0 0 1]]\n",
      "[[ 0  0  1]\n",
      " [ 0  1  0]\n",
      " [-1  0  0]]\n",
      "[[ 1  0  0]\n",
      " [ 0  0  1]\n",
      " [ 0 -1  0]]\n",
      "[[ 0  0  1]\n",
      " [ 0  1  0]\n",
      " [-1  0  0]]\n",
      "[2, 3, 7, 6, 1, 2, 1, 2]\n",
      "[[-1  0  0]\n",
      " [ 0 -1  0]\n",
      " [ 0  0  1]]\n",
      "[[ 0  1  0]\n",
      " [-1  0  0]\n",
      " [ 0  0  1]]\n",
      "[[ 1  0  0]\n",
      " [ 0  0 -1]\n",
      " [ 0  1  0]]\n",
      "[[0 0 1]\n",
      " [1 0 0]\n",
      " [0 1 0]]\n",
      "[[1 0 0]\n",
      " [0 1 0]\n",
      " [0 0 1]]\n",
      "[[ 0 -1  0]\n",
      " [ 1  0  0]\n",
      " [ 0  0  1]]\n",
      "[[-1  0  0]\n",
      " [ 0  0  1]\n",
      " [ 0  1  0]]\n",
      "[[ 0 -1  0]\n",
      " [ 1  0  0]\n",
      " [ 0  0  1]]\n",
      "[1, 5, 7, 3, 2, 1, 2, 1]\n",
      "[[0, 1, 3, 2, 0, 0, 0, 0], [0, 4, 5, 1, 2, 1, 2, 1], [0, 2, 6, 4, 1, 2, 1, 2], [4, 6, 7, 5, 0, 0, 0, 0], [2, 3, 7, 6, 1, 2, 1, 2], [1, 5, 7, 3, 2, 1, 2, 1]]\n"
     ]
    }
   ],
   "source": [
    "rotate_mappings = []\n",
    "for i in range(6):\n",
    "    maplet = []\n",
    "    for j in range(8):\n",
    "        if(np.dot(faces[i], blocks[j]) == 1):\n",
    "            maplet.append(j)\n",
    "            break\n",
    "    \n",
    "    v1 = np.matmul(face_rotates[i], np.array(blocks[maplet[0]]).reshape((3,1)))\n",
    "    for j in range(8):\n",
    "        if(np.dot(v1.reshape(1,3), blocks[j]) == 3):\n",
    "            maplet.append(j)\n",
    "    \n",
    "    v2 = np.matmul(face_rotates[i], v1)\n",
    "    for j in range(8):\n",
    "        if(np.dot(v2.reshape(1,3), blocks[j]) == 3):\n",
    "            maplet.append(j)\n",
    "    \n",
    "    v3 = np.matmul(face_rotates[i], v2)\n",
    "    for j in range(8):\n",
    "        if(np.dot(v3.reshape(1,3), blocks[j]) == 3):\n",
    "            maplet.append(j)\n",
    "    \n",
    "    # print(maplet)\n",
    "    d0s = np.array(list(map(lambda idx:faces[idx] ,block_associated_faces[maplet[0]]))).transpose()\n",
    "    print(d0s)\n",
    "    print(np.matmul(face_rotates[i], d0s))\n",
    "    d1s = np.array(list(map(lambda idx:faces[idx] ,block_associated_faces[maplet[1]]))).transpose()\n",
    "    print(d1s) \n",
    "    print(np.matmul(face_rotates[i], d1s))\n",
    "    d2s = np.array(list(map(lambda idx:faces[idx] ,block_associated_faces[maplet[2]]))).transpose()\n",
    "    print(d2s) \n",
    "    print(np.matmul(face_rotates[i], d2s))\n",
    "    d3s = np.array(list(map(lambda idx:faces[idx] ,block_associated_faces[maplet[3]]))).transpose()\n",
    "    print(d3s) \n",
    "    print(np.matmul(face_rotates[i], d2s))\n",
    "    \n",
    "    d00 = np.array(faces[block_associated_faces[maplet[0]][0]]).reshape(3,1)\n",
    "    d0 = np.matmul(face_rotates[i], d00)\n",
    "\n",
    "    for j in range(3):\n",
    "        if(np.dot(d0.reshape((1,3)), faces[block_associated_faces[maplet[1]][j]]) == 1):\n",
    "            maplet.append(j)\n",
    "\n",
    "    d10 = np.array(faces[block_associated_faces[maplet[1]][0]]).reshape(3,1)\n",
    "    d1 = np.matmul(face_rotates[i], d10)\n",
    "    for j in range(3):\n",
    "        if(np.dot(d1.reshape((1,3)), faces[block_associated_faces[maplet[2]][j]]) == 1):\n",
    "            maplet.append(j)\n",
    "\n",
    "    d20 = np.array(faces[block_associated_faces[maplet[2]][0]]).reshape(3,1)\n",
    "    d2 = np.matmul(face_rotates[i], d20)\n",
    "    for j in range(3):\n",
    "        if(np.dot(d2.reshape((1,3)), faces[block_associated_faces[maplet[3]][j]]) == 1):\n",
    "            maplet.append(j)\n",
    "\n",
    "    d30 = np.array(faces[block_associated_faces[maplet[3]][0]]).reshape(3,1)\n",
    "    d3 = np.matmul(face_rotates[i], d30)\n",
    "    for j in range(3):\n",
    "        if(np.dot(d3.reshape((1,3)), faces[block_associated_faces[maplet[0]][j]]) == 1):\n",
    "            maplet.append(j)\n",
    "    \n",
    "     \n",
    "    print(maplet)\n",
    "    rotate_mappings.append(maplet)\n",
    "print(rotate_mappings)"
   ]
  },
  {
   "cell_type": "markdown",
   "metadata": {},
   "source": [
    "### 映射数组的生成，np格式的保存，读取"
   ]
  },
  {
   "cell_type": "code",
   "execution_count": 10,
   "metadata": {},
   "outputs": [],
   "source": [
    "mmm = list(map( lambda line : \n",
    "        [\n",
    "            \n",
    "            [line[0], line[1],line[4]],\n",
    "            [line[1], line[2],line[5]],\n",
    "            [line[2], line[3],line[6]],\n",
    "            [line[3], line[0],line[7]],\n",
    "\n",
    "        ]\n",
    "        ,rotate_mappings))\n",
    "np.save(\"mapping2025.npy\", mmm)"
   ]
  },
  {
   "cell_type": "code",
   "execution_count": 11,
   "metadata": {},
   "outputs": [
    {
     "name": "stdout",
     "output_type": "stream",
     "text": [
      "[[[0 1 0]\n",
      "  [1 3 0]\n",
      "  [3 2 0]\n",
      "  [2 0 0]]\n",
      "\n",
      " [[0 4 2]\n",
      "  [4 5 1]\n",
      "  [5 1 2]\n",
      "  [1 0 1]]\n",
      "\n",
      " [[0 2 1]\n",
      "  [2 6 2]\n",
      "  [6 4 1]\n",
      "  [4 0 2]]\n",
      "\n",
      " [[4 6 0]\n",
      "  [6 7 0]\n",
      "  [7 5 0]\n",
      "  [5 4 0]]\n",
      "\n",
      " [[2 3 1]\n",
      "  [3 7 2]\n",
      "  [7 6 1]\n",
      "  [6 2 2]]\n",
      "\n",
      " [[1 5 2]\n",
      "  [5 7 1]\n",
      "  [7 3 2]\n",
      "  [3 1 1]]]\n"
     ]
    }
   ],
   "source": [
    "mmm2 = np.load(\"mapping2025.npy\")\n",
    "print(mmm2)"
   ]
  },
  {
   "cell_type": "markdown",
   "metadata": {},
   "source": [
    "## 生成旋转数组的声明代码（Java）"
   ]
  },
  {
   "cell_type": "code",
   "execution_count": 12,
   "metadata": {},
   "outputs": [
    {
     "name": "stdout",
     "output_type": "stream",
     "text": [
      "int[][][] mapping = new int[][][]{new int[][]{new int[]{ 0,1,0 },new int[]{ 1,3,0 },new int[]{ 3,2,0 },new int[]{ 2,0,0 }},\n",
      "new int[][]{new int[]{ 0,4,2 },new int[]{ 4,5,1 },new int[]{ 5,1,2 },new int[]{ 1,0,1 }},\n",
      "new int[][]{new int[]{ 0,2,1 },new int[]{ 2,6,2 },new int[]{ 6,4,1 },new int[]{ 4,0,2 }},\n",
      "new int[][]{new int[]{ 4,6,0 },new int[]{ 6,7,0 },new int[]{ 7,5,0 },new int[]{ 5,4,0 }},\n",
      "new int[][]{new int[]{ 2,3,1 },new int[]{ 3,7,2 },new int[]{ 7,6,1 },new int[]{ 6,2,2 }},\n",
      "new int[][]{new int[]{ 1,5,2 },new int[]{ 5,7,1 },new int[]{ 7,3,2 },new int[]{ 3,1,1 }}};\n"
     ]
    }
   ],
   "source": [
    "blockjoin = lambda block : f\"\"\"new int[]{{ { ','.join(map (lambda item: f\"{item}\",block))} }}\"\"\"\n",
    "# print(blockjoin([1,2,3]))\n",
    "\n",
    "newline = '\\n'\n",
    "code_java = f\"\"\"new int[][][]{{{ f',{newline}'.join(map(lambda line :\n",
    "                   f'''new int[][]{{{','.join(map(blockjoin, line ))}}}''',mmm2))\n",
    "     }}}\"\"\"\n",
    "\n",
    "print(f\"int[][][] mapping = {code_java};\")"
   ]
  },
  {
   "cell_type": "markdown",
   "metadata": {},
   "source": [
    "## 生成旋转数组的声明代码（C）"
   ]
  },
  {
   "cell_type": "code",
   "execution_count": 14,
   "metadata": {},
   "outputs": [
    {
     "name": "stdout",
     "output_type": "stream",
     "text": [
      "const int mapping[6][4][3] = {{{ 0,1,0 },{ 1,3,0 },{ 3,2,0 },{ 2,0,0 }},\n",
      "{{ 0,4,2 },{ 4,5,1 },{ 5,1,2 },{ 1,0,1 }},\n",
      "{{ 0,2,1 },{ 2,6,2 },{ 6,4,1 },{ 4,0,2 }},\n",
      "{{ 4,6,0 },{ 6,7,0 },{ 7,5,0 },{ 5,4,0 }},\n",
      "{{ 2,3,1 },{ 3,7,2 },{ 7,6,1 },{ 6,2,2 }},\n",
      "{{ 1,5,2 },{ 5,7,1 },{ 7,3,2 },{ 3,1,1 }}};\n"
     ]
    }
   ],
   "source": [
    "blockjoin = lambda block : f\"\"\"{{ { ','.join(map (lambda item: f\"{item}\",block))} }}\"\"\"\n",
    "\n",
    "newline = '\\n'\n",
    "code_c = f\"\"\"{{{ f',{newline}'.join(map(lambda line :\n",
    "                   f'''{{{','.join(map(blockjoin, line ))}}}''',mmm2))\n",
    "     }}}\"\"\"\n",
    "\n",
    "print(f\"const int mapping[6][4][3] = {code_c};\")"
   ]
  }
 ],
 "metadata": {
  "kernelspec": {
   "display_name": "Python 3",
   "language": "python",
   "name": "python3"
  },
  "language_info": {
   "codemirror_mode": {
    "name": "ipython",
    "version": 3
   },
   "file_extension": ".py",
   "mimetype": "text/x-python",
   "name": "python",
   "nbconvert_exporter": "python",
   "pygments_lexer": "ipython3",
   "version": "3.8.10"
  }
 },
 "nbformat": 4,
 "nbformat_minor": 2
}
